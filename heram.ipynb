{
 "cells": [
  {
   "cell_type": "code",
   "execution_count": 1,
   "metadata": {},
   "outputs": [],
   "source": [
    "a=7"
   ]
  },
  {
   "cell_type": "code",
   "execution_count": 20,
   "metadata": {},
   "outputs": [
    {
     "name": "stdout",
     "output_type": "stream",
     "text": [
      "\n",
      "7\t6\t5\t4\t3\t2\t1\t\n",
      "6\t5\t4\t3\t2\t1\t\n",
      "5\t4\t3\t2\t1\t\n",
      "4\t3\t2\t1\t\n",
      "3\t2\t1\t\n",
      "2\t1\t\n",
      "1\t"
     ]
    }
   ],
   "source": [
    "for i in range(7,0,-1):\n",
    "    print()\n",
    "    for j in range(i,0,-1):\n",
    "        print(j,end='\\t' )"
   ]
  },
  {
   "cell_type": "code",
   "execution_count": null,
   "metadata": {},
   "outputs": [],
   "source": []
  }
 ],
 "metadata": {
  "kernelspec": {
   "display_name": "Python 3",
   "language": "python",
   "name": "python3"
  },
  "language_info": {
   "codemirror_mode": {
    "name": "ipython",
    "version": 3
   },
   "file_extension": ".py",
   "mimetype": "text/x-python",
   "name": "python",
   "nbconvert_exporter": "python",
   "pygments_lexer": "ipython3",
   "version": "3.6.13"
  }
 },
 "nbformat": 4,
 "nbformat_minor": 2
}
